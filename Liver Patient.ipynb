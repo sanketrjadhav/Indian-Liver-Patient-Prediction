{
 "cells": [
  {
   "cell_type": "markdown",
   "metadata": {},
   "source": [
    "# Importing Data And Libraries"
   ]
  },
  {
   "cell_type": "code",
   "execution_count": 1,
   "metadata": {},
   "outputs": [],
   "source": [
    "import numpy as np\n",
    "import pandas as pd\n",
    "import warnings\n",
    "warnings.filterwarnings(\"ignore\")"
   ]
  },
  {
   "cell_type": "code",
   "execution_count": 2,
   "metadata": {},
   "outputs": [],
   "source": [
    "data = pd.read_excel('Liver Patient.xlsx',header = None)"
   ]
  },
  {
   "cell_type": "code",
   "execution_count": 3,
   "metadata": {},
   "outputs": [],
   "source": [
    "data.columns = ['Age', 'Gender', 'Total_Bilirubin', 'Direct_Bilirubin', 'Alkaline_Phosphotase',\n",
    "                    'Alamine_Aminotransferase', 'Aspartate_Aminotransferase', 'Total_Protiens',\n",
    "                    'Albumin', 'Albumin_and_Globulin_Ratio', 'Class']"
   ]
  },
  {
   "cell_type": "markdown",
   "metadata": {},
   "source": [
    "# Dealing With Null Values"
   ]
  },
  {
   "cell_type": "code",
   "execution_count": 5,
   "metadata": {},
   "outputs": [
    {
     "data": {
      "text/plain": [
       "Age                            0\n",
       "Gender                        20\n",
       "Total_Bilirubin                0\n",
       "Direct_Bilirubin               0\n",
       "Alkaline_Phosphotase           0\n",
       "Alamine_Aminotransferase       0\n",
       "Aspartate_Aminotransferase     0\n",
       "Total_Protiens                15\n",
       "Albumin                        0\n",
       "Albumin_and_Globulin_Ratio     4\n",
       "Class                          0\n",
       "dtype: int64"
      ]
     },
     "execution_count": 5,
     "metadata": {},
     "output_type": "execute_result"
    }
   ],
   "source": [
    "data.isna().sum()"
   ]
  },
  {
   "cell_type": "code",
   "execution_count": 6,
   "metadata": {},
   "outputs": [],
   "source": [
    "data['Gender'].fillna(data['Gender'].mode()[0],inplace=True)\n",
    "data['Total_Protiens'].fillna(data['Total_Protiens'].mean(),inplace=True)\n",
    "data['Albumin_and_Globulin_Ratio'].fillna(data['Albumin_and_Globulin_Ratio'].mean(),inplace=True)"
   ]
  },
  {
   "cell_type": "markdown",
   "metadata": {},
   "source": [
    "# Splitting Dataset"
   ]
  },
  {
   "cell_type": "code",
   "execution_count": 7,
   "metadata": {},
   "outputs": [],
   "source": [
    "X=data.drop('Class',axis=1) \n",
    "Y=data.Class\n",
    "X=pd.get_dummies(data=X, drop_first=True)"
   ]
  },
  {
   "cell_type": "code",
   "execution_count": 8,
   "metadata": {},
   "outputs": [],
   "source": [
    "from sklearn.model_selection import train_test_split\n",
    "x_train,x_test,y_train,y_test=train_test_split(X,Y,test_size=0.25,random_state=0)"
   ]
  },
  {
   "cell_type": "markdown",
   "metadata": {},
   "source": [
    "# Applying Models\n",
    "## KNN Model"
   ]
  },
  {
   "cell_type": "code",
   "execution_count": 25,
   "metadata": {},
   "outputs": [
    {
     "name": "stdout",
     "output_type": "stream",
     "text": [
      "knn test actual vs predicted cfm:-\n",
      "[[92  8]\n",
      " [40  6]]\n",
      "knn train score:- 0.8283752860411899\n",
      "knn test score:- 0.6712328767123288\n",
      "knn cross val score:- 72.0\n",
      "              precision    recall  f1-score   support\n",
      "\n",
      "          No       0.70      0.92      0.79       100\n",
      "         Yes       0.43      0.13      0.20        46\n",
      "\n",
      "    accuracy                           0.67       146\n",
      "   macro avg       0.56      0.53      0.50       146\n",
      "weighted avg       0.61      0.67      0.61       146\n",
      "\n"
     ]
    },
    {
     "data": {
      "text/plain": [
       "array(['No', 'No', 'No', 'No', 'No', 'No', 'No', 'No', 'No', 'No', 'No',\n",
       "       'No', 'No', 'No', 'No', 'No', 'No', 'Yes', 'Yes', 'No'],\n",
       "      dtype=object)"
      ]
     },
     "execution_count": 25,
     "metadata": {},
     "output_type": "execute_result"
    }
   ],
   "source": [
    "from sklearn.neighbors import KNeighborsClassifier\n",
    "from sklearn.metrics import classification_report,accuracy_score,confusion_matrix\n",
    "from sklearn.model_selection import cross_val_score\n",
    "\n",
    "clf_knn=KNeighborsClassifier(n_neighbors=2)\n",
    "clf_knn.fit(x_train,y_train)\n",
    "knn_pred=clf_knn.predict(x_test)\n",
    "\n",
    "cfm_knn=confusion_matrix(y_test,knn_pred)\n",
    "print(\"knn test actual vs predicted cfm:-\")\n",
    "print(cfm_knn)\n",
    "Accuracy_knn_train = clf_knn.score(x_train,y_train)\n",
    "print(\"knn train score:-\",Accuracy_knn_train)\n",
    "Accuracy_knn_test = accuracy_score(y_test,knn_pred)\n",
    "print(\"knn test score:-\",Accuracy_knn_test)\n",
    "cv_knn = cross_val_score(clf_knn, x_train, y_train, cv=5)\n",
    "print(\"knn cross val score:-\",round(cv_knn.mean(), 2) * 100)\n",
    "print(classification_report(y_test,knn_pred))\n",
    "knn_pred[0:20]"
   ]
  },
  {
   "cell_type": "code",
   "execution_count": 10,
   "metadata": {},
   "outputs": [
    {
     "name": "stdout",
     "output_type": "stream",
     "text": [
      "0.7185997910135842\n",
      "{'n_neighbors': 2}\n"
     ]
    }
   ],
   "source": [
    "from sklearn.model_selection import GridSearchCV\n",
    "\n",
    "parameters=[{'n_neighbors':[1,2,3,4,5,6]}]\n",
    "grid_search= GridSearchCV(estimator= clf_knn,param_grid=parameters,scoring='accuracy',cv=5,n_jobs= -1)\n",
    "grid_search=grid_search.fit(x_train,y_train)\n",
    "best_accuracy_knn=grid_search.best_score_\n",
    "best_parameters_knn=grid_search.best_params_\n",
    "print(best_accuracy_knn)\n",
    "print(best_parameters_knn)"
   ]
  },
  {
   "cell_type": "markdown",
   "metadata": {},
   "source": [
    "## XGB Model"
   ]
  },
  {
   "cell_type": "code",
   "execution_count": 11,
   "metadata": {},
   "outputs": [
    {
     "name": "stdout",
     "output_type": "stream",
     "text": [
      "xgb test actual vs predicted cfm:-\n",
      "[[89 11]\n",
      " [30 16]]\n",
      "xgb train score:- 1.0\n",
      "xgb test score:- 0.7191780821917808\n",
      "xgb cross val score:- 72.0\n",
      "              precision    recall  f1-score   support\n",
      "\n",
      "          No       0.75      0.89      0.81       100\n",
      "         Yes       0.59      0.35      0.44        46\n",
      "\n",
      "    accuracy                           0.72       146\n",
      "   macro avg       0.67      0.62      0.63       146\n",
      "weighted avg       0.70      0.72      0.69       146\n",
      "\n"
     ]
    },
    {
     "data": {
      "text/plain": [
       "array(['No', 'No', 'No', 'No', 'No', 'Yes', 'No', 'No', 'No', 'Yes', 'No',\n",
       "       'No', 'No', 'Yes', 'No', 'No', 'No', 'No', 'No', 'No'],\n",
       "      dtype=object)"
      ]
     },
     "execution_count": 11,
     "metadata": {},
     "output_type": "execute_result"
    }
   ],
   "source": [
    "from xgboost import XGBClassifier\n",
    "from sklearn.metrics import classification_report,accuracy_score,confusion_matrix\n",
    "from sklearn.model_selection import cross_val_score\n",
    "\n",
    "clf_xgb=XGBClassifier(learning_rate=0.5,random_state=0)\n",
    "clf_xgb.fit(x_train,y_train)\n",
    "xgb_pred=clf_xgb.predict(x_test)\n",
    "\n",
    "cfm_xgb=confusion_matrix(y_test,xgb_pred)\n",
    "print(\"xgb test actual vs predicted cfm:-\")\n",
    "print(cfm_xgb)\n",
    "Accuracy_xgb_train = clf_xgb.score(x_train,y_train)\n",
    "print(\"xgb train score:-\",Accuracy_xgb_train)\n",
    "Accuracy_xgb_test = accuracy_score(y_test,xgb_pred)\n",
    "print(\"xgb test score:-\",Accuracy_xgb_test)\n",
    "cv_xgb = cross_val_score(clf_xgb, x_train, y_train, cv=5)\n",
    "print(\"xgb cross val score:-\",round(cv_xgb.mean(), 2) * 100)\n",
    "print(classification_report(y_test,xgb_pred))\n",
    "xgb_pred[0:20]"
   ]
  },
  {
   "cell_type": "code",
   "execution_count": 12,
   "metadata": {},
   "outputs": [
    {
     "name": "stdout",
     "output_type": "stream",
     "text": [
      "0.7162748171368861\n",
      "{'learning_rate': 0.5, 'random_state': 0}\n"
     ]
    }
   ],
   "source": [
    "from sklearn.model_selection import GridSearchCV\n",
    "\n",
    "parameters=[{'learning_rate' : [0.2,0.5,0.8,0.9],'random_state':[0,1,2,3]}]\n",
    "grid_search= GridSearchCV(estimator= clf_xgb,param_grid=parameters,scoring='accuracy',cv=5,n_jobs= -1)\n",
    "grid_search=grid_search.fit(x_train,y_train)\n",
    "best_accuracy_xgb=grid_search.best_score_\n",
    "best_parameters_xgb=grid_search.best_params_\n",
    "print(best_accuracy_xgb)\n",
    "print(best_parameters_xgb)"
   ]
  },
  {
   "cell_type": "markdown",
   "metadata": {},
   "source": [
    "## Random Forest Model"
   ]
  },
  {
   "cell_type": "code",
   "execution_count": 24,
   "metadata": {},
   "outputs": [
    {
     "name": "stdout",
     "output_type": "stream",
     "text": [
      "rf test actual vs predicted cfm:-\n",
      "[[86 14]\n",
      " [35 11]]\n",
      "rf train score:- 1.0\n",
      "rf test score:- 0.6643835616438356\n",
      "rf cross val score:- 74.0\n",
      "              precision    recall  f1-score   support\n",
      "\n",
      "          No       0.71      0.86      0.78       100\n",
      "         Yes       0.44      0.24      0.31        46\n",
      "\n",
      "    accuracy                           0.66       146\n",
      "   macro avg       0.58      0.55      0.54       146\n",
      "weighted avg       0.63      0.66      0.63       146\n",
      "\n"
     ]
    },
    {
     "data": {
      "text/plain": [
       "array(['No', 'No', 'No', 'No', 'No', 'No', 'No', 'No', 'No', 'Yes', 'Yes',\n",
       "       'No', 'No', 'Yes', 'No', 'No', 'No', 'Yes', 'No', 'No'],\n",
       "      dtype=object)"
      ]
     },
     "execution_count": 24,
     "metadata": {},
     "output_type": "execute_result"
    }
   ],
   "source": [
    "from sklearn.ensemble import RandomForestClassifier\n",
    "from sklearn.metrics import classification_report,accuracy_score,confusion_matrix\n",
    "from sklearn.model_selection import cross_val_score\n",
    "\n",
    "clf_rf=RandomForestClassifier(criterion='entropy',random_state = 0,n_estimators = 30)\n",
    "clf_rf.fit(x_train,y_train)\n",
    "rf_pred=clf_rf.predict(x_test)\n",
    "\n",
    "cfm_rf=confusion_matrix(y_test,rf_pred)\n",
    "print(\"rf test actual vs predicted cfm:-\")\n",
    "print(cfm_rf)\n",
    "Accuracy_rf_train = clf_rf.score(x_train,y_train)\n",
    "print(\"rf train score:-\",Accuracy_rf_train)\n",
    "Accuracy_rf_test = accuracy_score(y_test,rf_pred)\n",
    "print(\"rf test score:-\",Accuracy_rf_test)\n",
    "cv_rf = cross_val_score(clf_rf, x_train, y_train, cv=5)\n",
    "print(\"rf cross val score:-\",round(cv_rf.mean(), 2) * 100)\n",
    "print(classification_report(y_test,rf_pred))\n",
    "rf_pred[0:20]"
   ]
  },
  {
   "cell_type": "code",
   "execution_count": 14,
   "metadata": {},
   "outputs": [
    {
     "name": "stdout",
     "output_type": "stream",
     "text": [
      "0.7438349007314524\n",
      "{'criterion': 'entropy', 'n_estimators': 30, 'random_state': 0}\n"
     ]
    }
   ],
   "source": [
    "from sklearn.model_selection import GridSearchCV\n",
    "\n",
    "parameters=[{'n_estimators' : [10,20,30], 'criterion' : ['entropy'],'random_state':[0,1,2]},\n",
    "           {'n_estimators' : [10,20,30], 'criterion' : ['gini'],'random_state':[0,1,2]}]\n",
    "grid_search= GridSearchCV(estimator= clf_rf,param_grid=parameters,scoring='accuracy',cv=5,n_jobs= -1)\n",
    "grid_search=grid_search.fit(x_train,y_train)\n",
    "best_accuracy_rf=grid_search.best_score_\n",
    "best_parameters_rf=grid_search.best_params_\n",
    "print(best_accuracy_rf)\n",
    "print(best_parameters_rf)"
   ]
  },
  {
   "cell_type": "markdown",
   "metadata": {},
   "source": [
    "## Logistic Model"
   ]
  },
  {
   "cell_type": "code",
   "execution_count": 15,
   "metadata": {},
   "outputs": [
    {
     "name": "stdout",
     "output_type": "stream",
     "text": [
      "log test actual vs predicted cfm:-\n",
      "[[93  7]\n",
      " [37  9]]\n",
      "log train score:- 0.7345537757437071\n",
      "log test score:- 0.6986301369863014\n",
      "log cross val score:- 73.0\n",
      "              precision    recall  f1-score   support\n",
      "\n",
      "          No       0.72      0.93      0.81       100\n",
      "         Yes       0.56      0.20      0.29        46\n",
      "\n",
      "    accuracy                           0.70       146\n",
      "   macro avg       0.64      0.56      0.55       146\n",
      "weighted avg       0.67      0.70      0.65       146\n",
      "\n"
     ]
    },
    {
     "data": {
      "text/plain": [
       "array(['No', 'No', 'No', 'No', 'No', 'No', 'No', 'No', 'No', 'Yes', 'No',\n",
       "       'No', 'Yes', 'No', 'No', 'No', 'No', 'Yes', 'No', 'No'],\n",
       "      dtype=object)"
      ]
     },
     "execution_count": 15,
     "metadata": {},
     "output_type": "execute_result"
    }
   ],
   "source": [
    "from sklearn.linear_model import LogisticRegression\n",
    "from sklearn.metrics import classification_report,accuracy_score,confusion_matrix\n",
    "from sklearn.model_selection import cross_val_score\n",
    "\n",
    "clf_log=LogisticRegression(random_state=0)\n",
    "clf_log.fit(x_train,y_train)\n",
    "log_pred=clf_log.predict(x_test)\n",
    "\n",
    "cfm_log=confusion_matrix(y_test,log_pred)\n",
    "print(\"log test actual vs predicted cfm:-\")\n",
    "print(cfm_log)\n",
    "Accuracy_log_train = clf_log.score(x_train,y_train)\n",
    "print(\"log train score:-\",Accuracy_log_train)\n",
    "Accuracy_log_test = accuracy_score(y_test,log_pred)\n",
    "print(\"log test score:-\",Accuracy_log_test)\n",
    "cv_log = cross_val_score(clf_log, x_train, y_train, cv=5)\n",
    "print(\"log cross val score:-\",round(cv_log.mean(), 2) * 100)\n",
    "print(classification_report(y_test,log_pred))\n",
    "log_pred[0:20]"
   ]
  },
  {
   "cell_type": "code",
   "execution_count": 16,
   "metadata": {},
   "outputs": [
    {
     "name": "stdout",
     "output_type": "stream",
     "text": [
      "0.7255224660397074\n",
      "{'random_state': 0}\n"
     ]
    }
   ],
   "source": [
    "from sklearn.model_selection import GridSearchCV\n",
    "\n",
    "parameters=[{'random_state':[0,1,2,3,4,5,6,7,8,9,10]}]\n",
    "grid_search= GridSearchCV(estimator= clf_log,param_grid=parameters,scoring='accuracy',cv=5,n_jobs= -1)\n",
    "grid_search=grid_search.fit(x_train,y_train)\n",
    "best_accuracy_log=grid_search.best_score_\n",
    "best_parameters_log=grid_search.best_params_\n",
    "print(best_accuracy_log)\n",
    "print(best_parameters_log)"
   ]
  },
  {
   "cell_type": "markdown",
   "metadata": {},
   "source": [
    "## SVC Model"
   ]
  },
  {
   "cell_type": "code",
   "execution_count": 23,
   "metadata": {},
   "outputs": [
    {
     "name": "stdout",
     "output_type": "stream",
     "text": [
      "svc test actual vs predicted cfm:-\n",
      "[[100   0]\n",
      " [ 45   1]]\n",
      "svc train score:- 0.9954233409610984\n",
      "svc test score:- 0.6917808219178082\n",
      "svc cross val score:- 72.0\n",
      "              precision    recall  f1-score   support\n",
      "\n",
      "          No       0.69      1.00      0.82       100\n",
      "         Yes       1.00      0.02      0.04        46\n",
      "\n",
      "    accuracy                           0.69       146\n",
      "   macro avg       0.84      0.51      0.43       146\n",
      "weighted avg       0.79      0.69      0.57       146\n",
      "\n"
     ]
    },
    {
     "data": {
      "text/plain": [
       "array(['No', 'No', 'No', 'No', 'No', 'No', 'No', 'No', 'No', 'No', 'No',\n",
       "       'No', 'No', 'No', 'No', 'No', 'No', 'No', 'No', 'No'], dtype=object)"
      ]
     },
     "execution_count": 23,
     "metadata": {},
     "output_type": "execute_result"
    }
   ],
   "source": [
    "from sklearn.svm import SVC\n",
    "from sklearn.metrics import classification_report,accuracy_score,confusion_matrix\n",
    "from sklearn.model_selection import cross_val_score\n",
    "\n",
    "clf_svc=SVC(gamma=0.1)\n",
    "clf_svc.fit(x_train,y_train)\n",
    "svc_pred=clf_svc.predict(x_test)\n",
    "\n",
    "cfm_svc=confusion_matrix(y_test,svc_pred)\n",
    "print(\"svc test actual vs predicted cfm:-\")\n",
    "print(cfm_svc)\n",
    "Accuracy_svc_train = clf_svc.score(x_train,y_train)\n",
    "print(\"svc train score:-\",Accuracy_svc_train)\n",
    "Accuracy_svc_test = accuracy_score(y_test,svc_pred)\n",
    "print(\"svc test score:-\",Accuracy_svc_test)\n",
    "cv_svc = cross_val_score(clf_svc, x_train, y_train, cv=5)\n",
    "print(\"svc cross val score:-\",round(cv_svc.mean(), 2) * 100)\n",
    "print(classification_report(y_test,svc_pred))\n",
    "svc_pred[0:20]"
   ]
  },
  {
   "cell_type": "code",
   "execution_count": 18,
   "metadata": {},
   "outputs": [
    {
     "name": "stdout",
     "output_type": "stream",
     "text": [
      "0.7231191222570532\n",
      "{'gamma': 0.1}\n"
     ]
    }
   ],
   "source": [
    "from sklearn.model_selection import GridSearchCV\n",
    "\n",
    "parameters=[{'gamma':[0.1,0.2,0.3]}]\n",
    "grid_search= GridSearchCV(estimator= clf_svc,param_grid=parameters,scoring='accuracy',cv=5,n_jobs= -1)\n",
    "grid_search=grid_search.fit(x_train,y_train)\n",
    "best_accuracy_svc=grid_search.best_score_\n",
    "best_parameters_svc=grid_search.best_params_\n",
    "print(best_accuracy_svc)\n",
    "print(best_parameters_svc)"
   ]
  },
  {
   "cell_type": "markdown",
   "metadata": {},
   "source": [
    "## We are getting good accuracy in random forest model ,hence we use random forest for the prediction."
   ]
  },
  {
   "cell_type": "code",
   "execution_count": 26,
   "metadata": {},
   "outputs": [],
   "source": [
    "df = pd.DataFrame({'Id':x_test.index,'Actual class':y_test,'rf':rf_pred})\n",
    "df.to_csv('prediction.csv', index = False)"
   ]
  },
  {
   "cell_type": "code",
   "execution_count": null,
   "metadata": {},
   "outputs": [],
   "source": []
  }
 ],
 "metadata": {
  "kernelspec": {
   "display_name": "Python 3",
   "language": "python",
   "name": "python3"
  },
  "language_info": {
   "codemirror_mode": {
    "name": "ipython",
    "version": 3
   },
   "file_extension": ".py",
   "mimetype": "text/x-python",
   "name": "python",
   "nbconvert_exporter": "python",
   "pygments_lexer": "ipython3",
   "version": "3.7.4"
  }
 },
 "nbformat": 4,
 "nbformat_minor": 4
}
